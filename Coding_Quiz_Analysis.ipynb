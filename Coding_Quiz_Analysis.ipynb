{
 "cells": [
  {
   "cell_type": "markdown",
   "id": "dae5de68",
   "metadata": {},
   "source": [
    "# Coding Quiz Analysis\n",
    "This notebook runs the full analysis for:\n",
    "\n",
    "- Regression (Y ~ X1 + X2 + X3)\n",
    "- Nearest Neighbor matching distance\n",
    "- Radius Neighbors matching effect and duplicate count\n",
    "\n",
    "Data: `homework_1.1.csv` and `homework_1.2.csv`."
   ]
  },
  {
   "cell_type": "code",
   "execution_count": null,
   "id": "8085479c",
   "metadata": {},
   "outputs": [],
   "source": [
    "\n",
    "import pandas as pd\n",
    "import numpy as np\n",
    "import statsmodels.api as sm\n",
    "from sklearn.neighbors import NearestNeighbors\n",
    "from collections import Counter\n"
   ]
  },
  {
   "cell_type": "code",
   "execution_count": null,
   "id": "6cc22b82",
   "metadata": {},
   "outputs": [],
   "source": [
    "\n",
    "# Load data\n",
    "file1 = \"homework_1.1.csv\"\n",
    "file2 = \"homework_1.2.csv\"\n",
    "\n",
    "df1 = pd.read_csv(file1)\n",
    "df2 = pd.read_csv(file2)\n",
    "\n",
    "df1.head(), df2.head()\n"
   ]
  },
  {
   "cell_type": "markdown",
   "id": "0b87fba1",
   "metadata": {},
   "source": [
    "## 1️⃣ Regression: Y ~ X1 + X2 + X3"
   ]
  },
  {
   "cell_type": "code",
   "execution_count": null,
   "id": "31ebba08",
   "metadata": {},
   "outputs": [],
   "source": [
    "\n",
    "X = df1[['X1', 'X2', 'X3']]\n",
    "X = sm.add_constant(X)\n",
    "y = df1['Y']\n",
    "\n",
    "model = sm.OLS(y, X).fit()\n",
    "print(model.summary())\n",
    "\n",
    "# t-stats and coefficients\n",
    "t_stats = model.tvalues\n",
    "coeffs = model.params\n",
    "\n",
    "t_stats, coeffs\n"
   ]
  },
  {
   "cell_type": "markdown",
   "id": "9dbafe3b",
   "metadata": {},
   "source": [
    "## 2️⃣ Nearest Neighbor match distance"
   ]
  },
  {
   "cell_type": "code",
   "execution_count": null,
   "id": "18ca028d",
   "metadata": {},
   "outputs": [],
   "source": [
    "\n",
    "treated = df2[df2['X'] == 1]\n",
    "control = df2[df2['X'] == 0]\n",
    "\n",
    "treated_z = treated[['Z']].values\n",
    "control_z = control[['Z']].values\n",
    "\n",
    "nn = NearestNeighbors(n_neighbors=1)\n",
    "nn.fit(control_z)\n",
    "distances, indices = nn.kneighbors(treated_z)\n",
    "\n",
    "max_distance = distances.max()\n",
    "print(f\"Farthest match distance: {max_distance:.4f}\")\n"
   ]
  },
  {
   "cell_type": "markdown",
   "id": "d010092f",
   "metadata": {},
   "source": [
    "## 3️⃣ Radius Neighbors effect & duplicates"
   ]
  },
  {
   "cell_type": "code",
   "execution_count": null,
   "id": "63149b7a",
   "metadata": {},
   "outputs": [],
   "source": [
    "\n",
    "radius = 0.2\n",
    "nbrs = NearestNeighbors(radius=radius)\n",
    "nbrs.fit(control_z)\n",
    "\n",
    "radius_neighbors = nbrs.radius_neighbors(treated_z, return_distance=False)\n",
    "\n",
    "treated_Y = treated['Y'].values\n",
    "control_Y = control['Y'].values\n",
    "\n",
    "group_effects = []\n",
    "all_matched_indices = []\n",
    "\n",
    "for i, indices in enumerate(radius_neighbors):\n",
    "    if len(indices) > 0:\n",
    "        group_effect = treated_Y[i] - control_Y[indices].mean()\n",
    "        group_effects.append(group_effect)\n",
    "        all_matched_indices.extend(indices)\n",
    "\n",
    "effect = np.mean(group_effects)\n",
    "print(f\"Estimated effect: {effect:.4f}\")\n",
    "\n",
    "# Duplicates\n",
    "control_counts = Counter(all_matched_indices)\n",
    "duplicates = sum([count - 1 for count in control_counts.values() if count > 1])\n",
    "print(f\"Number of duplicates (all but first use): {duplicates}\")\n"
   ]
  }
 ],
 "metadata": {},
 "nbformat": 4,
 "nbformat_minor": 5
}
