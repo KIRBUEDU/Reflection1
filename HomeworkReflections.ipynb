{
 "cells": [
  {
   "cell_type": "markdown",
   "id": "dae5de68",
   "metadata": {},
   "source": [
    "# Reflection 1 through 4 \n"
   ]
  },
  {
   "cell_type": "code",
   "execution_count": 1,
   "id": "8085479c",
   "metadata": {},
   "outputs": [],
   "source": [
    "\n",
    "import pandas as pd\n",
    "import numpy as np\n",
    "from sklearn.linear_model import LinearRegression\n",
    "from sklearn.neighbors import NearestNeighbors\n",
    "from collections import Counter\n"
   ]
  },
  {
   "cell_type": "code",
   "execution_count": 2,
   "id": "73835b85",
   "metadata": {},
   "outputs": [
    {
     "name": "stdout",
     "output_type": "stream",
     "text": [
      "Farthest match distance: 0.2102170871093757\n"
     ]
    }
   ],
   "source": [
    "df = pd.read_csv(\"homework_1.2.csv\")\n",
    "\n",
    "# Separate treated and control based on X\n",
    "treated = df[df[\"X\"] == 1]\n",
    "control = df[df[\"X\"] == 0]\n",
    "\n",
    "# Extract Z values as numpy arrays\n",
    "treated_z = treated[[\"Z\"]].values\n",
    "control_z = control[[\"Z\"]].values\n",
    "\n",
    "# Fit NearestNeighbors on control Z\n",
    "nn = NearestNeighbors(n_neighbors=1)\n",
    "nn.fit(control_z)\n",
    "\n",
    "# Find nearest control for each treated\n",
    "distances, indices = nn.kneighbors(treated_z)\n",
    "\n",
    "# The farthest match is the max of these distances\n",
    "farthest_distance = distances.max()\n",
    "\n",
    "print(\"Farthest match distance:\", farthest_distance)"
   ]
  },
  {
   "cell_type": "code",
   "execution_count": 3,
   "id": "a0e8634f",
   "metadata": {},
   "outputs": [],
   "source": [
    "# 1. In Coding Quiz 1, you are asked to find the distance of the farthest match in a set.  Is this farthest match distance too far to be a meaningful match?  How can you decide this?\n",
    "# I used a radius of 0.2, and the fartherst distance I got was 0.2102 which is slight greater than 0.2 so I don't think it is a meaningful match "
   ]
  },
  {
   "cell_type": "code",
   "execution_count": 4,
   "id": "e0d92a3b",
   "metadata": {},
   "outputs": [],
   "source": [
    "from sklearn.neighbors import NearestNeighbors\n",
    "import numpy as np\n",
    "\n",
    "\n",
    "treated_Y = treated['Y'].values\n",
    "control_Y = control['Y'].values\n",
    "\n",
    "K = 3\n",
    "\n",
    "nn = NearestNeighbors(n_neighbors=K)\n",
    "nn.fit(control_z)\n",
    "distances, indices = nn.kneighbors(treated_z)\n",
    "\n",
    "effects = []\n",
    "for i, idxs in enumerate(indices):\n",
    "    y_treated = treated_Y[i]\n",
    "    y_controls = control_Y[idxs]\n",
    "    effect_i = y_treated - y_controls.mean()\n",
    "    effects.append(effect_i)\n",
    "\n",
    "avg_effect = np.mean(effects)"
   ]
  },
  {
   "cell_type": "code",
   "execution_count": 5,
   "id": "f12d08dd",
   "metadata": {},
   "outputs": [
    {
     "name": "stdout",
     "output_type": "stream",
     "text": [
      "Estimated effect (K-NN, K=3): 0.5577110921927757\n"
     ]
    }
   ],
   "source": [
    "avg_effect = np.mean(effects)\n",
    "print(\"Estimated effect (K-NN, K=3):\", avg_effect)"
   ]
  },
  {
   "cell_type": "code",
   "execution_count": 6,
   "id": "ca023860",
   "metadata": {},
   "outputs": [],
   "source": [
    "# 2. In Coding Quiz 1, there are two approaches to matching: \n",
    "# (A) Picking the best match X = 0 corresponding to each X = 1 using Z values.\n",
    "# (B) Using radius_neighbors to pick all matches X = 0 within a distance of 0.2 of each X = 1.\n",
    "\n",
    "# Invent your own type of matching similar to 1 and 2 (or look one up on the internet), which has a different way to pick the matches in X = 0.  \n",
    "# Clearly explain the approach you invented or found.\n"
   ]
  },
  {
   "cell_type": "code",
   "execution_count": 7,
   "id": "f5d9403f",
   "metadata": {},
   "outputs": [],
   "source": [
    "# Homework Reflection 1 Question 2\n",
    "# By using K matches, I get more stable results because I average over several similar controls.\n",
    "# There is no hard distance cut-off — each treated unit always gets K matches, even if they are a bit farther away.\n",
    "# This method is flexible — I can also add weights or use more variables to improve the match quality.\n",
    "#  K‑NN matching gives a simple, balanced way to find good control matches without strict rules, making the estimates more reliable."
   ]
  },
  {
   "cell_type": "code",
   "execution_count": 8,
   "id": "dabe494f",
   "metadata": {},
   "outputs": [],
   "source": [
    "# Homework Reflection 2 Question 1 \n",
    "# 1 Invent an example situation that would use fixed effects.\n",
    "# I want to study wherther longer break times increase worker productivity in an office \n",
    "# Collect data from employees every day for 3 months  and see how their productivity is after 3 months \n",
    "# Compare each employee to themselves over time — seeing how changes in their break time affect their productivity holding their personal baseline constant. "
   ]
  },
  {
   "cell_type": "code",
   "execution_count": 9,
   "id": "65674b74",
   "metadata": {},
   "outputs": [
    {
     "name": "stdout",
     "output_type": "stream",
     "text": [
      "Bootstrap estimate of the variance of the mean: 0.001313\n"
     ]
    },
    {
     "data": {
      "image/png": "[encoded data removed]",
      "text/plain": [
       "<Figure size 640x480 with 1 Axes>"
      ]
     },
     "metadata": {},
     "output_type": "display_data"
    }
   ],
   "source": [
    "# Homework Reflection 2 Question 2\n",
    "\n",
    "# 2. Write a Python program that performs a bootstrap simulation to find the variance in the mean of the Pareto distribution when different samples are taken.  \n",
    "# Explain what you had to do for this.  As you make the full sample size bigger (for the same distribution), what happens to the variance of the mean of the samples?  \n",
    "# Does it stay about the same, get smaller, or get bigger?\n",
    "# As I made the sample size bigger, the variance became smaller \n",
    "# I took one sample from the Pareto distribution, then repeatedly resampled it with replacement and calculated the mean each time. \n",
    "# Finally, I measured how much these means vary to estimate the variance of the mean.\n",
    "\n",
    "\n",
    "import numpy as np\n",
    "import matplotlib.pyplot as plt\n",
    "\n",
    "# --- Parameters ---\n",
    "np.random.seed(42)\n",
    "shape = 2.5     # Pareto alpha parameter\n",
    "sample_size = 1000\n",
    "n_bootstrap = 500\n",
    "\n",
    "# --- Generate original sample ---\n",
    "sample = np.random.pareto(shape, sample_size)\n",
    "\n",
    "# --- Bootstrap: resample and compute means ---\n",
    "bootstrap_means = []\n",
    "\n",
    "for _ in range(n_bootstrap):\n",
    "    resample = np.random.choice(sample, size=sample_size, replace=True)\n",
    "    bootstrap_means.append(resample.mean())\n",
    "\n",
    "# --- Compute variance of the bootstrap means ---\n",
    "mean_variance = np.var(bootstrap_means)\n",
    "print(f\"Bootstrap estimate of the variance of the mean: {mean_variance:.6f}\")\n",
    "\n",
    "# --- Visualize ---\n",
    "plt.hist(bootstrap_means, bins=30, edgecolor='k')\n",
    "plt.title(\"Bootstrap distribution of the mean\")\n",
    "plt.xlabel(\"Mean value\")\n",
    "plt.ylabel(\"Frequency\")\n",
    "plt.show()"
   ]
  },
  {
   "cell_type": "code",
   "execution_count": null,
   "id": "01421f3c",
   "metadata": {},
   "outputs": [
    {
     "name": "stdout",
     "output_type": "stream",
     "text": [
      "Intercept: 0.9968701528517012\n",
      "Coefficients: [-2.76210766e-02  3.83927638e-04 -2.31864820e+00  6.29247121e-02\n",
      "  2.68935746e-05]\n",
      "\n",
      "Order: [time, time_sq, after, time_x_after, time_sq_x_after]\n"
     ]
    }
   ],
   "source": [
    "\n",
    "# Homework Reflection 3 Question 1 \n",
    "\n",
    "import pandas as pd\n",
    "import numpy as np\n",
    "from sklearn.linear_model import LinearRegression\n",
    "\n",
    "# Load your data\n",
    "df = pd.read_csv(\"homework_3.1.csv\")\n",
    "\n",
    "# Create the same features\n",
    "df['after'] = (df['time'] >= 50).astype(int)\n",
    "df['time_sq'] = df['time'] ** 2\n",
    "df['time_x_after'] = df['time'] * df['after']\n",
    "df['time_sq_x_after'] = df['time_sq'] * df['after']\n",
    "\n",
    "# Prepare X and y\n",
    "X = df[['time', 'time_sq', 'after', 'time_x_after', 'time_sq_x_after']].values\n",
    "y = df['value1'].values\n",
    "\n",
    "# Fit the linear model\n",
    "model = LinearRegression()\n",
    "model.fit(X, y)\n",
    "\n",
    "# Print coefficients and intercept\n",
    "print(\"Intercept:\", model.intercept_)\n",
    "print(\"Coefficients:\", model.coef_)\n",
    "\n",
    "# Which coefficient is for which term\n",
    "print(\"\\nOrder: [time, time_sq, after, time_x_after, time_sq_x_after]\")\n",
    "\n",
    "# Add a Time Squared term and interact it with the “after” indicator. If the interaction’s coefficient isn’t zero, the curvature changed after the event.\n",
    "# The last coefficient tells us that the curvature changed when time = 50 \n",
    "\n"
   ]
  },
  {
   "cell_type": "code",
   "execution_count": null,
   "id": "8bff2251",
   "metadata": {},
   "outputs": [],
   "source": [
    "# Homework Reflection 3 Question 2 \n",
    "# Create your own scenario that illustrates differences-in-differences. Describe the story behind the data and show whether there is a nonzero treatment effect.\n",
    "\n",
    "# A company wants to test if providing healthy meals in the cafeteria improves employee health.\n",
    "\n",
    "# In 2022, Office A switches its cafeteria to serve only healthy meals.\n",
    "\n",
    "# Office B, keeps its usual cafeteria options (no change).\n",
    "\n",
    "# Collect the BMI for both offices before the change and after the change \n",
    "# Before Change \n",
    "# Office A: BMI = 28 \n",
    "# Office B: BMI = 27 \n",
    "# After Change \n",
    "# Office A: BMI = 26 \n",
    "# Office B: BMI = 27 \n",
    "\n",
    "# Difference-in-Differences calculation:\n",
    "# Change for each group:\n",
    "\n",
    "# Office A: 28 → 26 → -2\n",
    "\n",
    "# Office B: 27 → 27 → 0\n",
    "\n",
    "# Difference-in-Difference Effect \n",
    "# -2 - 0 = -2 \n",
    "\n",
    "# The control group (Group B) BMI did not change at all\n",
    "# Employees in Office A BMI went down indicating that the healthy food choice was a good idea \n",
    "# The Difference in Difference Effect was -2 indicates a nonzero treatment effect\n",
    "# The control group’s BMI doesn’t change, then the whole drop in the treatment group shows the effect. So here, the healthy meals lowered BMI by 2 points.\n",
    "\n",
    "\n",
    "\n",
    "\n"
   ]
  },
  {
   "cell_type": "code",
   "execution_count": null,
   "id": "ed81e772",
   "metadata": {},
   "outputs": [],
   "source": [
    "# Homework Reflection 4 \n",
    "# 1 The Coding Quiz gives two options for instrumental variables.  \n",
    "# For the second item (dividing the range of W into multiple ranges), \n",
    "# explain how you did it, show your code, and discuss any issues you encountered.\n",
    "\n",
    "# In Some bins, the difference in X between Z = 1 and Z = 0 was nearly 0, making the denominator 0 thus making the solution undefined. \n",
    "# By the Use of NaN and dropping NaN values before calculating the average \n",
    "# Quantile Bins (qcut) was used to make sure each bin has the same number of observations making the estimates better\n",
    "# Outliers were removed "
   ]
  },
  {
   "cell_type": "code",
   "execution_count": null,
   "id": "34a35f41",
   "metadata": {},
   "outputs": [
    {
     "name": "stdout",
     "output_type": "stream",
     "text": [
      "Local Wald estimates per bin:\n",
      " W_bin\n",
      "(-3.304, -1.277]     1.539745\n",
      "(-1.277, -0.855]     1.315313\n",
      "(-0.855, -0.547]     1.609005\n",
      "(-0.547, -0.277]     1.618229\n",
      "(-0.277, -0.0322]    1.458265\n",
      "(-0.0322, 0.226]     1.538094\n",
      "(0.226, 0.491]       1.602899\n",
      "(0.491, 0.814]       1.485316\n",
      "(0.814, 1.303]       1.526583\n",
      "(1.303, 4.783]       1.395514\n",
      "dtype: float64\n",
      "\n",
      "Average effect: 1.5088963715407195\n"
     ]
    },
    {
     "name": "stderr",
     "output_type": "stream",
     "text": [
      "/tmp/ipykernel_15574/1723004278.py:17: FutureWarning: The default of observed=False is deprecated and will be changed to True in a future version of pandas. Pass observed=False to retain current behavior or observed=True to adopt the future default and silence this warning.\n",
      "  local_estimates = df.groupby('W_bin').apply(local_wald).dropna()\n",
      "/tmp/ipykernel_15574/1723004278.py:17: DeprecationWarning: DataFrameGroupBy.apply operated on the grouping columns. This behavior is deprecated, and in a future version of pandas the grouping columns will be excluded from the operation. Either pass `include_groups=False` to exclude the groupings or explicitly select the grouping columns after groupby to silence this warning.\n",
      "  local_estimates = df.groupby('W_bin').apply(local_wald).dropna()\n"
     ]
    }
   ],
   "source": [
    "import pandas as pd\n",
    "import numpy as np\n",
    "\n",
    "\n",
    "df = pd.read_csv(\"homework_4.1.csv\")\n",
    "\n",
    "\n",
    "df['W_bin'] = pd.qcut(df['W'], q=10)\n",
    "\n",
    "\n",
    "def local_wald(group):\n",
    "    diff_Y = group[group['Z'] == 1]['Y'].mean() - group[group['Z'] == 0]['Y'].mean()\n",
    "    diff_X = group[group['Z'] == 1]['X'].mean() - group[group['Z'] == 0]['X'].mean()\n",
    "    return diff_Y / diff_X if diff_X != 0 else np.nan\n",
    "\n",
    "\n",
    "local_estimates = df.groupby('W_bin').apply(local_wald).dropna()\n",
    "\n",
    "\n",
    "average_effect = local_estimates.mean()\n",
    "\n",
    "print(\"Local Wald estimates per bin:\\n\", local_estimates)\n",
    "print(\"\\nAverage effect:\", average_effect)"
   ]
  }
 ],
 "metadata": {
  "kernelspec": {
   "display_name": "Python 3",
   "language": "python",
   "name": "python3"
  },
  "language_info": {
   "codemirror_mode": {
    "name": "ipython",
    "version": 3
   },
   "file_extension": ".py",
   "mimetype": "text/x-python",
   "name": "python",
   "nbconvert_exporter": "python",
   "pygments_lexer": "ipython3",
   "version": "3.12.1"
  }
 },
 "nbformat": 4,
 "nbformat_minor": 5
}
